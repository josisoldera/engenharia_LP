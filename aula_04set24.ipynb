{
  "nbformat": 4,
  "nbformat_minor": 0,
  "metadata": {
    "colab": {
      "provenance": [],
      "authorship_tag": "ABX9TyPY0+5QsZt/VCz3CzUVb1U7",
      "include_colab_link": true
    },
    "kernelspec": {
      "name": "python3",
      "display_name": "Python 3"
    },
    "language_info": {
      "name": "python"
    }
  },
  "cells": [
    {
      "cell_type": "markdown",
      "metadata": {
        "id": "view-in-github",
        "colab_type": "text"
      },
      "source": [
        "<a href=\"https://colab.research.google.com/github/josisoldera/engenharia_LP/blob/main/aula_04set24.ipynb\" target=\"_parent\"><img src=\"https://colab.research.google.com/assets/colab-badge.svg\" alt=\"Open In Colab\"/></a>"
      ]
    },
    {
      "cell_type": "markdown",
      "source": [
        "#ex.05 - aula LP02"
      ],
      "metadata": {
        "id": "e2_mfJmoCb9H"
      }
    },
    {
      "cell_type": "markdown",
      "source": [
        "#o P tem que ser maiúsculo\n",
        "#não esquecer \"\"\n"
      ],
      "metadata": {
        "id": "Y2XPHMGlK3MK"
      }
    },
    {
      "cell_type": "code",
      "source": [
        "P = float(input(\"digite valor em polegadas:\"))\n",
        "mm = P * 25.4\n",
        "print (mm)"
      ],
      "metadata": {
        "colab": {
          "base_uri": "https://localhost:8080/"
        },
        "id": "W4DKBDB-CZhY",
        "outputId": "e0ce99ba-339e-45ed-9242-a791c0ed778f"
      },
      "execution_count": null,
      "outputs": [
        {
          "output_type": "stream",
          "name": "stdout",
          "text": [
            "digite valor em polegadas:2\n",
            "50.8\n"
          ]
        }
      ]
    },
    {
      "cell_type": "markdown",
      "source": [
        "#ex 05 esfera\n",
        "\n",
        "#float aceita 2 ou 2,5 mas usando int (inteiro) não sera aceito\n",
        "#round diminui casas decimais"
      ],
      "metadata": {
        "id": "SGtEeOSHTW1n"
      }
    },
    {
      "cell_type": "code",
      "source": [
        "from math import pi\n",
        "#vou solicitar inicialmente o raio\n",
        "print(\"Programa para Calcular volume da esfera!\")\n",
        "raio = float(input(\"digite raio:\"))\n",
        "v = (4/3) * pi * (raio**3)\n",
        "print(\"Volume da esfera = \", v)\n"
      ],
      "metadata": {
        "colab": {
          "base_uri": "https://localhost:8080/"
        },
        "id": "5mF3IIACSuAo",
        "outputId": "f5b1b745-af6d-4b71-cc79-2f41f702400b"
      },
      "execution_count": null,
      "outputs": [
        {
          "output_type": "stream",
          "name": "stdout",
          "text": [
            "Programa para Calcular volume da esfera!\n",
            "digite raio:2\n",
            "Volume da esfera =  33.510321638291124\n"
          ]
        }
      ]
    },
    {
      "cell_type": "markdown",
      "source": [
        "#Exercício para praticar 01\n",
        "#não esquecr a multiplicação"
      ],
      "metadata": {
        "id": "VeHXr-85Pk6h"
      }
    },
    {
      "cell_type": "code",
      "source": [
        "F = float(input(\"digitar graus em fahrenheit:\"))\n",
        "print(\"programa para calcular em graus!\")\n",
        "C = (5/9)*(F-32)\n",
        "print (C)\n"
      ],
      "metadata": {
        "colab": {
          "base_uri": "https://localhost:8080/"
        },
        "id": "HAhbxAEDPepa",
        "outputId": "77495c9f-410f-42f0-d918-fdc3d52c36e0"
      },
      "execution_count": null,
      "outputs": [
        {
          "output_type": "stream",
          "name": "stdout",
          "text": [
            "digitar graus em fahrenheit:32\n",
            "programa para calcular em graus!\n",
            "0.0\n"
          ]
        }
      ]
    },
    {
      "cell_type": "markdown",
      "source": [
        "#ex 04"
      ],
      "metadata": {
        "id": "ycYg9FyXWdx0"
      }
    },
    {
      "cell_type": "code",
      "source": [
        "idade = int(input(\"digite a sua idade: \"))\n",
        "if 16 <= idade < 70:\n",
        "    print (\"você pode votar.\")\n",
        "else:\n",
        "    print (\"você não pode votar.\")\n"
      ],
      "metadata": {
        "colab": {
          "base_uri": "https://localhost:8080/"
        },
        "id": "iBH249ADX09e",
        "outputId": "89c1d2bc-40b1-4715-b07a-2f5033822ff7"
      },
      "execution_count": 3,
      "outputs": [
        {
          "output_type": "stream",
          "name": "stdout",
          "text": [
            "digite a sua idade: 16\n",
            "você pode votar.\n"
          ]
        }
      ]
    },
    {
      "cell_type": "markdown",
      "source": [
        "usar o tab como espaço se necessário\n",
        "ex: instrucao 1\n",
        "    instrucao 2\n",
        "(precisa eSTAR alinhado para o programa ler)\n",
        "checar (==) soma(=)\n",
        "condiçao (????)\n",
        "f= formate\n",
        "váriavel dentro daa{}"
      ],
      "metadata": {
        "id": "lMB_nERnM8KW"
      }
    },
    {
      "cell_type": "code",
      "source": [
        "numero = int(input(\"Digite um número inteiro: \"))\n",
        "if numero % 2 == 0:\n",
        "  print(f\"{10} é par.\")\n",
        "else:\n",
        "  print(f\"{5} é impar.\")"
      ],
      "metadata": {
        "colab": {
          "base_uri": "https://localhost:8080/"
        },
        "id": "yPxFqWxIQCqI",
        "outputId": "6bac7f79-18ae-430f-910b-8f9ff6a17994"
      },
      "execution_count": 17,
      "outputs": [
        {
          "output_type": "stream",
          "name": "stdout",
          "text": [
            "Digite um número inteiro: 35\n",
            "5 é impar.\n"
          ]
        }
      ]
    },
    {
      "cell_type": "markdown",
      "source": [
        "raiz quadrada"
      ],
      "metadata": {
        "id": "_hZ39W8KV3-v"
      }
    },
    {
      "cell_type": "code",
      "source": [
        "import math\n",
        "numero = float(input(\"digite um número: \"))\n",
        "if numero >= 0:\n",
        "#verifica se o número é maior ou igual a zero\n",
        "  raiz_quadrada = math.sqrt(numero)\n",
        "  print(f\"A raiz quadrada de {numero} é {raiz_quadrada:.2f}.\")\n",
        "else:\n",
        "  print(f\"não existe raiz quadrada para este número.\")"
      ],
      "metadata": {
        "colab": {
          "base_uri": "https://localhost:8080/"
        },
        "id": "89tG3kmrV4Ow",
        "outputId": "e5205810-219c-4cb0-d8e4-e533c921c8de"
      },
      "execution_count": 43,
      "outputs": [
        {
          "output_type": "stream",
          "name": "stdout",
          "text": [
            "digite um número: 4\n",
            "A raiz quadrada de 4.0 é 2.00.\n"
          ]
        }
      ]
    },
    {
      "cell_type": "markdown",
      "source": [
        "tamanho camisetas"
      ],
      "metadata": {
        "id": "4qNtYmQZbuLc"
      }
    },
    {
      "cell_type": "code",
      "source": [
        "from pprint import pp\n",
        "comprimento = float(input(\"Digite o comprimento da camisa em centímetros: \"))\n",
        "Largura = float(input(\"Digite a largura da camisa em centímetros: \"))\n",
        "\n",
        "if comprimento <= 66 and largura <= 50:\n",
        "   Tamanho = \"pp\"\n",
        "elif comprimento <= 65 and largura <= 48:\n",
        "   Tamanho = \"P\"\n",
        "elif comprimento <= 70 and largura <= 51:\n",
        "   Tamanho = \"M\"\n",
        "elif comprimento <= 75 and largura <= 54:\n",
        "   Tamanho = \"G\"\n",
        "elif comprimento <= 80 and largura <= 57:\n",
        "   Tamanho = \"GG\"\n",
        "else:\n",
        "   Tamanho = \"XGG\"\n",
        "print(f\"O tamanho da camisa é {Tamanho}.\")\n"
      ],
      "metadata": {
        "colab": {
          "base_uri": "https://localhost:8080/",
          "height": 245
        },
        "id": "meLEtjX2bp_d",
        "outputId": "d454f429-50aa-4f3b-d8b5-affb4c6f1c6b"
      },
      "execution_count": 48,
      "outputs": [
        {
          "name": "stdout",
          "output_type": "stream",
          "text": [
            "Digite o comprimento da camisa em centímetros: 66\n",
            "Digite a largura da camisa em centímetros: 50\n"
          ]
        },
        {
          "output_type": "error",
          "ename": "NameError",
          "evalue": "name 'largura' is not defined",
          "traceback": [
            "\u001b[0;31m---------------------------------------------------------------------------\u001b[0m",
            "\u001b[0;31mNameError\u001b[0m                                 Traceback (most recent call last)",
            "\u001b[0;32m<ipython-input-48-97306091c22b>\u001b[0m in \u001b[0;36m<cell line: 5>\u001b[0;34m()\u001b[0m\n\u001b[1;32m      3\u001b[0m \u001b[0mLargura\u001b[0m \u001b[0;34m=\u001b[0m \u001b[0mfloat\u001b[0m\u001b[0;34m(\u001b[0m\u001b[0minput\u001b[0m\u001b[0;34m(\u001b[0m\u001b[0;34m\"Digite a largura da camisa em centímetros: \"\u001b[0m\u001b[0;34m)\u001b[0m\u001b[0;34m)\u001b[0m\u001b[0;34m\u001b[0m\u001b[0;34m\u001b[0m\u001b[0m\n\u001b[1;32m      4\u001b[0m \u001b[0;34m\u001b[0m\u001b[0m\n\u001b[0;32m----> 5\u001b[0;31m \u001b[0;32mif\u001b[0m \u001b[0mcomprimento\u001b[0m \u001b[0;34m<=\u001b[0m \u001b[0;36m66\u001b[0m \u001b[0;32mand\u001b[0m \u001b[0mlargura\u001b[0m \u001b[0;34m<=\u001b[0m \u001b[0;36m50\u001b[0m\u001b[0;34m:\u001b[0m\u001b[0;34m\u001b[0m\u001b[0;34m\u001b[0m\u001b[0m\n\u001b[0m\u001b[1;32m      6\u001b[0m    \u001b[0mTamanho\u001b[0m \u001b[0;34m=\u001b[0m \u001b[0;34m\"pp\"\u001b[0m\u001b[0;34m\u001b[0m\u001b[0;34m\u001b[0m\u001b[0m\n\u001b[1;32m      7\u001b[0m \u001b[0;32melif\u001b[0m \u001b[0mcomprimento\u001b[0m \u001b[0;34m<=\u001b[0m \u001b[0;36m65\u001b[0m \u001b[0;32mand\u001b[0m \u001b[0mlargura\u001b[0m \u001b[0;34m<=\u001b[0m \u001b[0;36m48\u001b[0m\u001b[0;34m:\u001b[0m\u001b[0;34m\u001b[0m\u001b[0;34m\u001b[0m\u001b[0m\n",
            "\u001b[0;31mNameError\u001b[0m: name 'largura' is not defined"
          ]
        }
      ]
    }
  ]
}