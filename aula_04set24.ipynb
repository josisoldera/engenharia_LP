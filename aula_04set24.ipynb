{
  "nbformat": 4,
  "nbformat_minor": 0,
  "metadata": {
    "colab": {
      "provenance": [],
      "authorship_tag": "ABX9TyM+JFfhFvq6LuqE2PBZbkon",
      "include_colab_link": true
    },
    "kernelspec": {
      "name": "python3",
      "display_name": "Python 3"
    },
    "language_info": {
      "name": "python"
    }
  },
  "cells": [
    {
      "cell_type": "markdown",
      "metadata": {
        "id": "view-in-github",
        "colab_type": "text"
      },
      "source": [
        "<a href=\"https://colab.research.google.com/github/josisoldera/engenharia_LP/blob/main/aula_04set24.ipynb\" target=\"_parent\"><img src=\"https://colab.research.google.com/assets/colab-badge.svg\" alt=\"Open In Colab\"/></a>"
      ]
    },
    {
      "cell_type": "markdown",
      "source": [
        "#ex.05 - aula LP02"
      ],
      "metadata": {
        "id": "e2_mfJmoCb9H"
      }
    },
    {
      "cell_type": "markdown",
      "source": [
        "#o P tem que ser maiúsculo\n",
        "#não esquecer \"\"\n"
      ],
      "metadata": {
        "id": "Y2XPHMGlK3MK"
      }
    },
    {
      "cell_type": "code",
      "source": [
        "P = float(input(\"digite valor em polegadas:\"))\n",
        "mm = P * 25.4\n",
        "print (mm)"
      ],
      "metadata": {
        "colab": {
          "base_uri": "https://localhost:8080/"
        },
        "id": "W4DKBDB-CZhY",
        "outputId": "e0ce99ba-339e-45ed-9242-a791c0ed778f"
      },
      "execution_count": 22,
      "outputs": [
        {
          "output_type": "stream",
          "name": "stdout",
          "text": [
            "digite valor em polegadas:2\n",
            "50.8\n"
          ]
        }
      ]
    },
    {
      "cell_type": "markdown",
      "source": [
        "#ex 05 esfera\n",
        "\n",
        "#float aceita 2 ou 2,5 mas usando int (inteiro) não sera aceito\n",
        "#round diminui casas decimais"
      ],
      "metadata": {
        "id": "SGtEeOSHTW1n"
      }
    },
    {
      "cell_type": "code",
      "source": [
        "from math import pi\n",
        "#vou solicitar inicialmente o raio\n",
        "print(\"Programa para Calcular volume da esfera!\")\n",
        "raio = float(input(\"digite raio:\"))\n",
        "v = (4/3) * pi * (raio**3)\n",
        "print(\"Volume da esfera = \", v)\n"
      ],
      "metadata": {
        "colab": {
          "base_uri": "https://localhost:8080/"
        },
        "id": "5mF3IIACSuAo",
        "outputId": "f5b1b745-af6d-4b71-cc79-2f41f702400b"
      },
      "execution_count": null,
      "outputs": [
        {
          "output_type": "stream",
          "name": "stdout",
          "text": [
            "Programa para Calcular volume da esfera!\n",
            "digite raio:2\n",
            "Volume da esfera =  33.510321638291124\n"
          ]
        }
      ]
    },
    {
      "cell_type": "markdown",
      "source": [
        "#Exercício para praticar 01\n",
        "#não esquecr a multiplicação"
      ],
      "metadata": {
        "id": "VeHXr-85Pk6h"
      }
    },
    {
      "cell_type": "code",
      "source": [
        "F = float(input(\"digitar graus em fahrenheit:\"))\n",
        "print(\"programa para calcular em graus!\")\n",
        "C = (5/9)*(F-32)\n",
        "print (C)\n"
      ],
      "metadata": {
        "colab": {
          "base_uri": "https://localhost:8080/"
        },
        "id": "HAhbxAEDPepa",
        "outputId": "77495c9f-410f-42f0-d918-fdc3d52c36e0"
      },
      "execution_count": 26,
      "outputs": [
        {
          "output_type": "stream",
          "name": "stdout",
          "text": [
            "digitar graus em fahrenheit:32\n",
            "programa para calcular em graus!\n",
            "0.0\n"
          ]
        }
      ]
    },
    {
      "cell_type": "markdown",
      "source": [
        "#ex 04"
      ],
      "metadata": {
        "id": "ycYg9FyXWdx0"
      }
    },
    {
      "cell_type": "code",
      "source": [
        "idade = int(input(\"digite a sua idade:\"))\n",
        "if <16= idade < 70\n",
        "print(\"você esta na fauxa etária entre 16 e 70 anos.\")\n",
        "else:\n",
        "print(\"vocÊ esta fora da faixa etária entre 16 e 70 anos.\")\n"
      ],
      "metadata": {
        "colab": {
          "base_uri": "https://localhost:8080/",
          "height": 106
        },
        "id": "iBH249ADX09e",
        "outputId": "ca7c1657-5a3e-42b5-9258-4b75a9e5d317"
      },
      "execution_count": 38,
      "outputs": [
        {
          "output_type": "error",
          "ename": "SyntaxError",
          "evalue": "invalid syntax (<ipython-input-38-9198360f6ad3>, line 2)",
          "traceback": [
            "\u001b[0;36m  File \u001b[0;32m\"<ipython-input-38-9198360f6ad3>\"\u001b[0;36m, line \u001b[0;32m2\u001b[0m\n\u001b[0;31m    if <16= idade < 70\u001b[0m\n\u001b[0m       ^\u001b[0m\n\u001b[0;31mSyntaxError\u001b[0m\u001b[0;31m:\u001b[0m invalid syntax\n"
          ]
        }
      ]
    },
    {
      "cell_type": "code",
      "source": [
        "()"
      ],
      "metadata": {
        "id": "EypQlyRWa7fU"
      },
      "execution_count": null,
      "outputs": []
    }
  ]
}