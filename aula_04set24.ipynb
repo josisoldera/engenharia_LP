{
  "nbformat": 4,
  "nbformat_minor": 0,
  "metadata": {
    "colab": {
      "provenance": [],
      "authorship_tag": "ABX9TyPKVP/qWGUJ5QGQIojDJtf2",
      "include_colab_link": true
    },
    "kernelspec": {
      "name": "python3",
      "display_name": "Python 3"
    },
    "language_info": {
      "name": "python"
    }
  },
  "cells": [
    {
      "cell_type": "markdown",
      "metadata": {
        "id": "view-in-github",
        "colab_type": "text"
      },
      "source": [
        "<a href=\"https://colab.research.google.com/github/josisoldera/engenharia_LP/blob/main/aula_04set24.ipynb\" target=\"_parent\"><img src=\"https://colab.research.google.com/assets/colab-badge.svg\" alt=\"Open In Colab\"/></a>"
      ]
    },
    {
      "cell_type": "markdown",
      "source": [
        "#ex.05 - aula LP02"
      ],
      "metadata": {
        "id": "e2_mfJmoCb9H"
      }
    },
    {
      "cell_type": "markdown",
      "source": [
        "#o P tem que ser maiúsculo\n",
        "#não esquecer \"\"\n"
      ],
      "metadata": {
        "id": "Y2XPHMGlK3MK"
      }
    },
    {
      "cell_type": "code",
      "source": [
        "P = float(input(\"digite valor em polegadas:\"))\n",
        "mm = P * 25.4\n",
        "print (mm)"
      ],
      "metadata": {
        "colab": {
          "base_uri": "https://localhost:8080/"
        },
        "id": "W4DKBDB-CZhY",
        "outputId": "e0ce99ba-339e-45ed-9242-a791c0ed778f"
      },
      "execution_count": null,
      "outputs": [
        {
          "output_type": "stream",
          "name": "stdout",
          "text": [
            "digite valor em polegadas:2\n",
            "50.8\n"
          ]
        }
      ]
    },
    {
      "cell_type": "markdown",
      "source": [
        "#ex 05 esfera\n",
        "\n",
        "#float aceita 2 ou 2,5 mas usando int (inteiro) não sera aceito\n",
        "#round diminui casas decimais"
      ],
      "metadata": {
        "id": "SGtEeOSHTW1n"
      }
    },
    {
      "cell_type": "code",
      "source": [
        "from math import pi\n",
        "#vou solicitar inicialmente o raio\n",
        "print(\"Programa para Calcular volume da esfera!\")\n",
        "raio = float(input(\"digite raio:\"))\n",
        "v = (4/3) * pi * (raio**3)\n",
        "print(\"Volume da esfera = \", v)\n"
      ],
      "metadata": {
        "colab": {
          "base_uri": "https://localhost:8080/"
        },
        "id": "5mF3IIACSuAo",
        "outputId": "f5b1b745-af6d-4b71-cc79-2f41f702400b"
      },
      "execution_count": null,
      "outputs": [
        {
          "output_type": "stream",
          "name": "stdout",
          "text": [
            "Programa para Calcular volume da esfera!\n",
            "digite raio:2\n",
            "Volume da esfera =  33.510321638291124\n"
          ]
        }
      ]
    },
    {
      "cell_type": "markdown",
      "source": [
        "#Exercício para praticar 01\n",
        "#não esquecr a multiplicação"
      ],
      "metadata": {
        "id": "VeHXr-85Pk6h"
      }
    },
    {
      "cell_type": "code",
      "source": [
        "F = float(input(\"digitar graus em fahrenheit:\"))\n",
        "print(\"programa para calcular em graus!\")\n",
        "C = (5/9)*(F-32)\n",
        "print (C)\n"
      ],
      "metadata": {
        "colab": {
          "base_uri": "https://localhost:8080/"
        },
        "id": "HAhbxAEDPepa",
        "outputId": "77495c9f-410f-42f0-d918-fdc3d52c36e0"
      },
      "execution_count": null,
      "outputs": [
        {
          "output_type": "stream",
          "name": "stdout",
          "text": [
            "digitar graus em fahrenheit:32\n",
            "programa para calcular em graus!\n",
            "0.0\n"
          ]
        }
      ]
    },
    {
      "cell_type": "markdown",
      "source": [
        "#ex 04"
      ],
      "metadata": {
        "id": "ycYg9FyXWdx0"
      }
    },
    {
      "cell_type": "code",
      "source": [
        "idade = int(input(\"digite a sua idade: \"))\n",
        "if 16 <= idade < 70:\n",
        "    print (\"você pode votar.\")\n",
        "else:\n",
        "    print (\"você não pode votar.\")\n"
      ],
      "metadata": {
        "colab": {
          "base_uri": "https://localhost:8080/"
        },
        "id": "iBH249ADX09e",
        "outputId": "89c1d2bc-40b1-4715-b07a-2f5033822ff7"
      },
      "execution_count": null,
      "outputs": [
        {
          "output_type": "stream",
          "name": "stdout",
          "text": [
            "digite a sua idade: 16\n",
            "você pode votar.\n"
          ]
        }
      ]
    },
    {
      "cell_type": "markdown",
      "source": [
        "usar o tab como espaço se necessário\n",
        "ex: instrucao 1\n",
        "    instrucao 2\n",
        "(precisa eSTAR alinhado para o programa ler)\n",
        "checar (==) soma(=)\n",
        "condiçao (????)\n",
        "f= formate\n",
        "váriavel dentro daa{}"
      ],
      "metadata": {
        "id": "lMB_nERnM8KW"
      }
    },
    {
      "cell_type": "code",
      "source": [
        "numero = int(input(\"Digite um número inteiro: \"))\n",
        "if numero % 2 == 0:\n",
        "  print(f\" é par.\")\n",
        "else:\n",
        "  print(f\"é impar.\")"
      ],
      "metadata": {
        "colab": {
          "base_uri": "https://localhost:8080/"
        },
        "id": "yPxFqWxIQCqI",
        "outputId": "db65ba5c-2c29-4ded-fefd-5fcf8887f17b"
      },
      "execution_count": 9,
      "outputs": [
        {
          "output_type": "stream",
          "name": "stdout",
          "text": [
            "Digite um número inteiro: 22\n",
            " é par.\n"
          ]
        }
      ]
    },
    {
      "cell_type": "markdown",
      "source": [
        "raiz quadrada"
      ],
      "metadata": {
        "id": "_hZ39W8KV3-v"
      }
    },
    {
      "cell_type": "code",
      "source": [
        "import math\n",
        "numero = float(input(\"digite um número: \"))\n",
        "if numero >= 0:\n",
        "#verifica se o número é maior ou igual a zero\n",
        "  raiz_quadrada = math.sqrt(numero)\n",
        "  print(f\"A raiz quadrada de {numero} é {raiz_quadrada:.2f}.\")\n",
        "else:\n",
        "  print(f\"não existe raiz quadrada para este número.\")"
      ],
      "metadata": {
        "colab": {
          "base_uri": "https://localhost:8080/"
        },
        "id": "89tG3kmrV4Ow",
        "outputId": "e5205810-219c-4cb0-d8e4-e533c921c8de"
      },
      "execution_count": null,
      "outputs": [
        {
          "output_type": "stream",
          "name": "stdout",
          "text": [
            "digite um número: 4\n",
            "A raiz quadrada de 4.0 é 2.00.\n"
          ]
        }
      ]
    },
    {
      "cell_type": "markdown",
      "source": [
        "O código está tentando acessar uma variável chamada largura, mas ela não está definida. Observando as variáveis globais, você definiu uma variável chamada Largura. Python diferencia maiúsculas de minúsculas, então ele está tratando largura e Largura como variáveis diferentes.\n",
        "\n",
        "Sugestões de Mudanças\n",
        "\n",
        "comprimento = float(input(\"Digite o comprimento da camisa em centímetros: \"))\n",
        "largura = float(input(\"Digite a largura da camisa em centímetros: \")) # Largura foi alterada para largura\n",
        "\n",
        "Use code with caution\n",
        "**Basicamente, o erro ocorreu porque você usou Largura (com L maiúsculo) na definição da variável, mas largura (com l minúsculo) na condição if. Alterando Largura para largura na linha 2, o código funcionará corretamente.**"
      ],
      "metadata": {
        "id": "QpRhrxLBMtst"
      }
    },
    {
      "cell_type": "code",
      "source": [
        "comprimento = float(input(\"Digite o comprimento da camisa em centímetros: \"))\n",
        "largura = float(input(\"digite a largura da camisa em centímetros: \"))\n",
        "\n",
        "if comprimento <= 66 and largura <= 50:\n",
        "   Tamanho = \"pp\"\n",
        "elif comprimento <= 65 and largura <= 48:\n",
        "   Tamanho = \"P\"\n",
        "elif comprimento <= 70 and largura <= 51:\n",
        "   Tamanho = \"M\"\n",
        "elif comprimento <= 75 and largura <= 54:\n",
        "   Tamanho = \"G\"\n",
        "elif comprimento <= 80 and largura <= 57:\n",
        "   Tamanho = \"GG\"\n",
        "else:\n",
        "   Tamanho = \"XGG\"\n",
        "print(f\"O tamanho da camisa é {Tamanho}.\")\n"
      ],
      "metadata": {
        "id": "meLEtjX2bp_d",
        "colab": {
          "base_uri": "https://localhost:8080/"
        },
        "outputId": "3f90ce9b-0f64-4adf-a4d0-38d2f6291e55"
      },
      "execution_count": 7,
      "outputs": [
        {
          "output_type": "stream",
          "name": "stdout",
          "text": [
            "Digite o comprimento da camisa em centímetros: 72\n",
            "digite a largura da camisa em centímetros: 50\n",
            "O tamanho da camisa é G.\n"
          ]
        }
      ]
    },
    {
      "cell_type": "markdown",
      "source": [
        "ex. extras 01\n",
        "usar % e ver as bolinhas como \"RESTO\""
      ],
      "metadata": {
        "id": "8rdqdXiJKaZW"
      }
    },
    {
      "cell_type": "code",
      "source": [
        "x = int(input(\"digite um numero:\"))\n",
        "print(\"resto da divisão de x por 3:\")\n",
        "r = x % 3\n",
        "if (r == 0):\n",
        "  print(\"multiplo\")\n",
        "else:\n",
        "  print(\"nao multiplo\")"
      ],
      "metadata": {
        "colab": {
          "base_uri": "https://localhost:8080/"
        },
        "id": "pq60D8HCKbEm",
        "outputId": "2000cc29-db76-455c-a9fa-c427dbb2f360"
      },
      "execution_count": 29,
      "outputs": [
        {
          "output_type": "stream",
          "name": "stdout",
          "text": [
            "digite um numero:7\n",
            "resto da divisão de x por 3:\n",
            "nao multiplo\n"
          ]
        }
      ]
    },
    {
      "cell_type": "markdown",
      "source": [
        "Dadas as notas a e b de um aluno, com pesos\n",
        "respectivamente 2 e 3; pede-se elaborar um programa em Python para calcular e exibir\n",
        "a média ponderada do aluno, verificar e informar, junto ao valor da sua média, se foi\n",
        "aprovado ou não (OBS: Considere aprovado se obtiver média igual ou superior a 5).>= 5\n",
        "\n",
        "#usando float pq pode ser 5 pu 5.5!"
      ],
      "metadata": {
        "id": "DtabxEHGX45j"
      }
    },
    {
      "cell_type": "code",
      "source": [
        "a = float(input(\"digite a primeira nota:\"))\n",
        "b = float(input(\"digite a segunda nota:\"))\n",
        "peso1 = 2\n",
        "peso2 = 3\n",
        "media = (a * peso1 + b * peso2) / (peso1 + peso2)\n",
        "if media >= 5:\n",
        "  print(\"aprovado\")\n",
        "else:\n",
        "  print(\"reprovado\")"
      ],
      "metadata": {
        "colab": {
          "base_uri": "https://localhost:8080/"
        },
        "id": "Hp_dHAaBX5Cb",
        "outputId": "1c92fb92-5ec5-498e-c7f2-bad8a87261c9"
      },
      "execution_count": 36,
      "outputs": [
        {
          "output_type": "stream",
          "name": "stdout",
          "text": [
            "digite a primeira nota:2\n",
            "digite a segunda nota:3\n",
            "reprovado\n"
          ]
        }
      ]
    },
    {
      "cell_type": "markdown",
      "source": [
        "Dado o algoritmo a seguir, elabore o código python do programa em questão:\n",
        "Início\n",
        "Leia os três valores: a, b e c.\n",
        "Compare os valores:\n",
        "Se a é menor ou igual a b e a é menor ou igual a c, então\n",
        "a é o menor valor.\n",
        "Caso contrário, se b é menor ou igual a a e b é menor ou igual a c, então\n",
        "b é o menor valor.\n",
        "Caso contrário,\n",
        "c é o menor valor.\n",
        "Exiba o menor valor."
      ],
      "metadata": {
        "id": "UekSxbi_b_1d"
      }
    },
    {
      "cell_type": "code",
      "source": [
        "a = float(input(\"valor de a:\"))\n",
        "b = float(input(\"valor de b:\"))\n",
        "c = float(input(\"valor de c:\"))\n",
        "if a <= b and a <= c:\n",
        "  print(a)\n",
        "elif b <= a and b <= c:\n",
        "  print(b)\n",
        "else:\n",
        "  print(c)"
      ],
      "metadata": {
        "colab": {
          "base_uri": "https://localhost:8080/"
        },
        "id": "VtqL9hPkb_-1",
        "outputId": "6bb686e1-b16d-48e1-d756-a8bc8994e99c"
      },
      "execution_count": 40,
      "outputs": [
        {
          "output_type": "stream",
          "name": "stdout",
          "text": [
            "valor de a:2\n",
            "valor de b:3\n",
            "valor de c:3\n",
            "2.0\n"
          ]
        }
      ]
    },
    {
      "cell_type": "code",
      "source": [],
      "metadata": {
        "id": "fMeANyaadKZM"
      },
      "execution_count": 39,
      "outputs": []
    }
  ]
}